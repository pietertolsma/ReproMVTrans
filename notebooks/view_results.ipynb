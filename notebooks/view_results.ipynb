{
 "cells": [
  {
   "cell_type": "code",
   "execution_count": 25,
   "metadata": {},
   "outputs": [],
   "source": [
    "import torchvision.transforms as T\n",
    "def tensor_to_img(data, mode=None):\n",
    "    return T.ToPILImage(mode=mode)(data)\n",
    "    "
   ]
  },
  {
   "cell_type": "code",
   "execution_count": 1,
   "metadata": {},
   "outputs": [
    {
     "name": "stderr",
     "output_type": "stream",
     "text": [
      "/Users/pietertolsma/Thesis/ReproMVTrans/.venv/lib/python3.9/site-packages/tqdm/auto.py:22: TqdmWarning: IProgress not found. Please update jupyter and ipywidgets. See https://ipywidgets.readthedocs.io/en/stable/user_install.html\n",
      "  from .autonotebook import tqdm as notebook_tqdm\n",
      "/Users/pietertolsma/Thesis/ReproMVTrans/.venv/lib/python3.9/site-packages/torchvision/models/_utils.py:223: UserWarning: Arguments other than a weight enum or `None` for 'weights' are deprecated since 0.13 and may be removed in the future. The current behavior is equivalent to passing `weights=ResNet18_Weights.IMAGENET1K_V1`. You can also use `weights=ResNet18_Weights.DEFAULT` to get the most up-to-date weights.\n",
      "  warnings.warn(msg)\n"
     ]
    },
    {
     "name": "stdout",
     "output_type": "stream",
     "text": [
      "torch.Size([3, 4, 4])\n",
      "torch.Size([3, 3, 800, 800])\n"
     ]
    },
    {
     "name": "stderr",
     "output_type": "stream",
     "text": [
      "/Users/pietertolsma/Thesis/ReproMVTrans/.venv/lib/python3.9/site-packages/torch/nn/functional.py:3734: UserWarning: nn.functional.upsample is deprecated. Use nn.functional.interpolate instead.\n",
      "  warnings.warn(\"nn.functional.upsample is deprecated. Use nn.functional.interpolate instead.\")\n",
      "/Users/pietertolsma/Thesis/ReproMVTrans/.venv/lib/python3.9/site-packages/torch/functional.py:504: UserWarning: torch.meshgrid: in an upcoming release, it will be required to pass the indexing argument. (Triggered internally at /Users/runner/work/pytorch/pytorch/pytorch/aten/src/ATen/native/TensorShape.cpp:3191.)\n",
      "  return _VF.meshgrid(tensors, **kwargs)  # type: ignore[attr-defined]\n",
      "/Users/pietertolsma/Thesis/ReproMVTrans/.venv/lib/python3.9/site-packages/torch/nn/functional.py:4227: UserWarning: Default grid_sample and affine_grid behavior has changed to align_corners=False since 1.3.0. Please specify align_corners=True if the old behavior is desired. See the documentation of grid_sample for details.\n",
      "  warnings.warn(\n"
     ]
    },
    {
     "ename": "AttributeError",
     "evalue": "'tuple' object has no attribute 'depth_pred'",
     "output_type": "error",
     "traceback": [
      "\u001b[0;31m---------------------------------------------------------------------------\u001b[0m",
      "\u001b[0;31mAttributeError\u001b[0m                            Traceback (most recent call last)",
      "Cell \u001b[0;32mIn[1], line 34\u001b[0m\n\u001b[1;32m     31\u001b[0m \u001b[39mprint\u001b[39m(imgs\u001b[39m.\u001b[39mshape)\n\u001b[1;32m     33\u001b[0m out \u001b[39m=\u001b[39m model(batched_img, batched_cams, runner\u001b[39m.\u001b[39mcam_intr)\n\u001b[0;32m---> 34\u001b[0m out \u001b[39m=\u001b[39m out\u001b[39m.\u001b[39;49mdepth_pred\n\u001b[1;32m     36\u001b[0m \u001b[39mprint\u001b[39m(out\u001b[39m.\u001b[39mmax())\n\u001b[1;32m     38\u001b[0m target \u001b[39m=\u001b[39m tensor_to_img(y, mode\u001b[39m=\u001b[39m\u001b[39m\"\u001b[39m\u001b[39mL\u001b[39m\u001b[39m\"\u001b[39m)\u001b[39m.\u001b[39mresize((\u001b[39m800\u001b[39m, \u001b[39m800\u001b[39m))\n",
      "\u001b[0;31mAttributeError\u001b[0m: 'tuple' object has no attribute 'depth_pred'"
     ]
    }
   ],
   "source": [
    "from omegaconf import OmegaConf\n",
    "from repromvtrans.runner import Runner\n",
    "import torchvision.transforms as T\n",
    "import torch\n",
    "\n",
    "import PIL\n",
    "\n",
    "import numpy as np\n",
    "from repromvtrans.dataloaders.nerf_synthetic_loader import NerfSyntheticDataset\n",
    "\n",
    "cfg = cfg = OmegaConf.load(\"../config/config.yaml\")\n",
    "cfg.datasets.nerf_synthetic.root = \"../data/nerf_synthetic/lego\"\n",
    "\n",
    "runner = Runner.load_from_checkpoint(\"../mvtrans/ww873z82/checkpoints/epoch=0-step=140.ckpt\", cfg=cfg)\n",
    "model = runner.model\n",
    "\n",
    "def tensor_to_img(data, mode=None):\n",
    "    data *= 255\n",
    "    return T.ToPILImage(mode=mode)(data)\n",
    "    \n",
    "\n",
    "data = NerfSyntheticDataset(cfg)\n",
    "\n",
    "(imgs, cams), y = data[20]\n",
    "y = y.int() * 255*255\n",
    "\n",
    "batched_img = imgs.unsqueeze(0)\n",
    "batched_cams = cams.unsqueeze(0)\n",
    "\n",
    "print(cams.shape)\n",
    "print(imgs.shape)\n",
    "\n",
    "(depth, seg) = model(batched_img, batched_cams, runner.cam_intr)\n",
    "out = seg.seg_pred\n",
    "\n",
    "print(out.max())\n",
    "\n",
    "target = tensor_to_img(y, mode=\"L\").resize((800, 800))\n",
    "img = tensor_to_img(out[0], mode=\"L\").resize((800,800))\n",
    "display(img)\n",
    "display(target)\n",
    "\n",
    "\n",
    "\n"
   ]
  },
  {
   "cell_type": "code",
   "execution_count": 29,
   "metadata": {},
   "outputs": [
    {
     "name": "stdout",
     "output_type": "stream",
     "text": [
      "tensor(65025, dtype=torch.int32)\n"
     ]
    },
    {
     "data": {
      "image/png": "[encoded data removed]",
      "text/plain": [
       "<PIL.Image.Image image mode=I size=800x800>"
      ]
     },
     "metadata": {},
     "output_type": "display_data"
    }
   ],
   "source": [
    "from omegaconf import OmegaConf\n",
    "from repromvtrans.runner import Runner\n",
    "import torchvision.transforms as T\n",
    "import torch\n",
    "\n",
    "import PIL\n",
    "\n",
    "import numpy as np\n",
    "from repromvtrans.dataloaders.nerf_synthetic_loader import NerfSyntheticDataset\n",
    "\n",
    "cfg = cfg = OmegaConf.load(\"../config/config.yaml\")\n",
    "cfg.datasets.nerf_synthetic.root = \"../data/nerf_synthetic/lego\"\n",
    "\n",
    "data = NerfSyntheticDataset(cfg)\n",
    "\n",
    "(imgs, cams), y = data[20]\n",
    "\n",
    "y = y.int() * 255*255\n",
    "print(y.max())\n",
    "\n",
    "target = tensor_to_img(y)\n",
    "\n",
    "display(target)"
   ]
  },
  {
   "cell_type": "code",
   "execution_count": null,
   "metadata": {},
   "outputs": [],
   "source": []
  }
 ],
 "metadata": {
  "kernelspec": {
   "display_name": ".venv",
   "language": "python",
   "name": "python3"
  },
  "language_info": {
   "codemirror_mode": {
    "name": "ipython",
    "version": 3
   },
   "file_extension": ".py",
   "mimetype": "text/x-python",
   "name": "python",
   "nbconvert_exporter": "python",
   "pygments_lexer": "ipython3",
   "version": "3.9.16"
  },
  "orig_nbformat": 4,
  "vscode": {
   "interpreter": {
    "hash": "001a0b84de60d642cc73c309be81432d3aaf711bc8c06b57ef9a55126ab493b3"
   }
  }
 },
 "nbformat": 4,
 "nbformat_minor": 2
}
